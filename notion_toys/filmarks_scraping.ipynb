{
  "cells": [
    {
      "cell_type": "code",
      "execution_count": null,
      "metadata": {
        "colab": {
          "base_uri": "https://localhost:8080/"
        },
        "id": "9C_TI15Uvxua",
        "outputId": "609289ae-39b6-4d30-ece3-7002d7b459c4"
      },
      "outputs": [
        {
          "name": "stdout",
          "output_type": "stream",
          "text": [
            "Looking in indexes: https://pypi.org/simple, https://us-python.pkg.dev/colab-wheels/public/simple/\n",
            "Requirement already satisfied: requests in /usr/local/lib/python3.8/dist-packages (2.25.1)\n",
            "Requirement already satisfied: certifi>=2017.4.17 in /usr/local/lib/python3.8/dist-packages (from requests) (2022.12.7)\n",
            "Requirement already satisfied: chardet<5,>=3.0.2 in /usr/local/lib/python3.8/dist-packages (from requests) (4.0.0)\n",
            "Requirement already satisfied: idna<3,>=2.5 in /usr/local/lib/python3.8/dist-packages (from requests) (2.10)\n",
            "Requirement already satisfied: urllib3<1.27,>=1.21.1 in /usr/local/lib/python3.8/dist-packages (from requests) (1.24.3)\n",
            "Looking in indexes: https://pypi.org/simple, https://us-python.pkg.dev/colab-wheels/public/simple/\n",
            "Requirement already satisfied: beautifulsoup4 in /usr/local/lib/python3.8/dist-packages (4.6.3)\n"
          ]
        }
      ],
      "source": [
        "!pip install requests\n",
        "!pip install beautifulsoup4"
      ]
    },
    {
      "cell_type": "code",
      "execution_count": null,
      "metadata": {
        "id": "eDKqp_Fzv7HS"
      },
      "outputs": [],
      "source": [
        "import json\n",
        "import re\n",
        "from datetime import datetime, date\n",
        "from pprint import pprint\n",
        "from urllib.parse import urljoin, urlparse, urlunparse\n",
        "\n",
        "import requests\n",
        "from bs4 import BeautifulSoup"
      ]
    },
    {
      "cell_type": "code",
      "execution_count": null,
      "metadata": {
        "colab": {
          "base_uri": "https://localhost:8080/",
          "height": 35
        },
        "id": "0iZnZzEl2NiK",
        "outputId": "e8c918e1-510c-4bde-cb09-2d91b2565efa"
      },
      "outputs": [
        {
          "data": {
            "application/vnd.google.colaboratory.intrinsic+json": {
              "type": "string"
            },
            "text/plain": [
              "'https://filmarks.com'"
            ]
          },
          "execution_count": 28,
          "metadata": {},
          "output_type": "execute_result"
        }
      ],
      "source": [
        "filmarks_url = urlunparse((\"https\", \"filmarks.com\", \"\", \"\", \"\", \"\"))\n",
        "filmarks_url"
      ]
    },
    {
      "cell_type": "code",
      "execution_count": null,
      "metadata": {
        "id": "tpJaIkK_ZKrD"
      },
      "outputs": [],
      "source": [
        "filmarks_id = \"fairy26\""
      ]
    },
    {
      "cell_type": "code",
      "execution_count": null,
      "metadata": {
        "colab": {
          "base_uri": "https://localhost:8080/",
          "height": 35
        },
        "id": "I721HRFV2WUT",
        "outputId": "de446e9e-961f-41a0-f338-54dd5545179d"
      },
      "outputs": [
        {
          "data": {
            "application/vnd.google.colaboratory.intrinsic+json": {
              "type": "string"
            },
            "text/plain": [
              "'https://filmarks.com/users/fairy26'"
            ]
          },
          "execution_count": 156,
          "metadata": {},
          "output_type": "execute_result"
        }
      ],
      "source": [
        "urljoin(filmarks_url, f\"/users/{filmarks_id}\")"
      ]
    },
    {
      "cell_type": "code",
      "execution_count": null,
      "metadata": {
        "colab": {
          "base_uri": "https://localhost:8080/",
          "height": 35
        },
        "id": "pPBJl8nP0z2D",
        "outputId": "68637a99-953d-45f1-d747-29c9549ad91c"
      },
      "outputs": [
        {
          "data": {
            "application/vnd.google.colaboratory.intrinsic+json": {
              "type": "string"
            },
            "text/plain": [
              "'/movies/33172'"
            ]
          },
          "execution_count": 31,
          "metadata": {},
          "output_type": "execute_result"
        }
      ],
      "source": [
        "# 色々試す\n",
        "\n",
        "urlparse(\"https://filmarks.com/users/fairy26\")\n",
        "# ParseResult(scheme='https', netloc='filmarks.com', path='/users/fairy26', params='', query='', fragment='')\n",
        "\n",
        "urlunparse((\"https\", \"filmarks.com\", \"/users/fairy26\", \"\", \"\", \"\"))\n",
        "# https://filmarks.com/users/fairy26\n",
        "\n",
        "urlparse(\"/movies/33172?mark_id=147182566\").path\n",
        "# /movies/33172"
      ]
    },
    {
      "cell_type": "code",
      "execution_count": null,
      "metadata": {
        "id": "EmHWQZEtwEp_"
      },
      "outputs": [],
      "source": [
        "res = requests.get(urljoin(filmarks_url, f\"/users/{filmarks_id}\"))\n",
        "soup = BeautifulSoup(res.text, \"html.parser\")"
      ]
    },
    {
      "cell_type": "code",
      "execution_count": null,
      "metadata": {
        "colab": {
          "base_uri": "https://localhost:8080/"
        },
        "id": "Kx_nPdv8Vqz5",
        "outputId": "e1a72548-1be5-4cf0-a132-fd855fe9ca4f"
      },
      "outputs": [
        {
          "name": "stdout",
          "output_type": "stream",
          "text": [
            "7\n"
          ]
        }
      ],
      "source": [
        "# ページ数\n",
        "num_pages = 1\n",
        "regex = re.compile(f\"/users/{filmarks_id}\\?page=(\\d+)\")\n",
        "pagination_last = soup.find(\"a\", class_=\"c-pagination__last\")[\"href\"]\n",
        "result = regex.match(pagination_last)\n",
        "if result:\n",
        "  num_pages = int(result.group(1))\n",
        "print(num_pages)"
      ]
    },
    {
      "cell_type": "code",
      "execution_count": null,
      "metadata": {
        "colab": {
          "base_uri": "https://localhost:8080/"
        },
        "id": "uLGrAQPDWIqe",
        "outputId": "e07b5f7d-1842-4a0d-bfb8-004ce9d4962e"
      },
      "outputs": [
        {
          "name": "stdout",
          "output_type": "stream",
          "text": [
            "movie_url = 'https://filmarks.com/movies/33172?mark_id=147182566'\n",
            "title = 'タクシードライバー'\n",
            "img_url = 'https://d2ueuvlup6lbue.cloudfront.net/attachments/8faceb5f89e1587fae260af6286cc7ff2fab793f/store/fitpad/260/364/088162cd4d520a301a9a4b14b65073c64b4600a325c90afaee131dcb416a/_.jpg'\n",
            "release_date = datetime.date(1976, 9, 18)\n",
            "countries = ['アメリカ']\n",
            "genres = ['サスペンス', 'クライム', 'スリラー']\n",
            "directors = ['マーティン・スコセッシ']\n",
            "writers = ['ポール・シュレイダー']\n",
            "casts = ['ロバート・デ・ニーロ', 'シビル・シェパード', 'ピーター・ボイル', 'ジョディ・フォスター', 'アルバート・ブルックス', 'ハーヴェイ・カイテル', 'ジョー・スピネル', 'マーティン・スコセッシ', 'ダイアン・アボット', 'ヴィクター・アルゴ', 'レオナルド・ハリス']\n",
            "watch_date = datetime.date(2023, 1, 13)\n",
            "score = 3.7\n",
            "review = 'バックボーン違いすぎてアメリカンニューシネマは理解共感しづらい'\n",
            "color = 'orange'\n"
          ]
        }
      ],
      "source": [
        "parser = \"html.parser\"\n",
        "for num in range(1, num_pages+1):\n",
        "  url = urljoin(filmarks_url, f\"/users/{filmarks_id}?page={num}\")\n",
        "  \n",
        "  # ユーザーページnum番目\n",
        "  res = requests.get(url)\n",
        "  if res.status_code != 200:\n",
        "    continue\n",
        "  soup = BeautifulSoup(res.text, parser)\n",
        "\n",
        "  for card_title in soup.find_all(\"h3\", class_=\"c-content-card__title\"):\n",
        "    movie_path_query = card_title.find(\"a\")[\"href\"]\n",
        "    movie_url = urljoin(filmarks_url, movie_path_query)\n",
        "    print(f\"{movie_url = }\")\n",
        "\n",
        "    # 映画ページ\n",
        "    res = requests.get(movie_url)\n",
        "    if res.status_code != 200:\n",
        "      continue\n",
        "    soup_movie = BeautifulSoup(res.text, parser)\n",
        "\n",
        "    ## 映画のデータ\n",
        "    detail = soup_movie.find(\"div\", class_=\"p-content-detail__body\")\n",
        "    other_info = list(detail.find(\"div\", class_=\"p-content-detail__other-info\").children)\n",
        "    people_list_others = list(detail.find(\"div\", class_=\"p-content-detail__people-list-others__wrapper\").children)\n",
        "\n",
        "    # タイトル\n",
        "    title: str = detail.find(\"h2\", class_=\"p-content-detail__title\").find(\"span\").text\n",
        "    # 画像url\n",
        "    img_url: str = detail.find(\"img\")[\"src\"]\n",
        "    # 上映日\n",
        "    release_date: date = datetime.strptime(other_info[0].text, \"上映日：%Y年%m月%d日\").date()\n",
        "    # 制作国\n",
        "    countries: list = [country.text for country in other_info[2].find_all(\"a\")]\n",
        "    # ジャンル\n",
        "    genres: list = [genre.text for genre in detail.find(\"div\", class_=\"p-content-detail__genre\").find_all(\"a\")]\n",
        "    # 監督\n",
        "    directors: list = [person.text for person in people_list_others[0].find_all(\"a\")]\n",
        "    # 脚本\n",
        "    writers: list = [person.text for person in people_list_others[1].find_all(\"a\")]\n",
        "    # 出演者\n",
        "    casts: list = [cast.text for cast in detail.find(\"div\", id=\"js-content-detail-people-cast\").find_all(\"a\")]\n",
        "\n",
        "    ## レビューのデータ\n",
        "    card_review = soup_movie.find(\"div\", class_=\"p-mark\")\n",
        "    \n",
        "    # 鑑賞日\n",
        "    watch_date: date = datetime.strptime(card_review.find(\"time\")[\"datetime\"], \"%Y-%m-%d %H:%M\").date()\n",
        "    # スコア\n",
        "    score = float(card_review.find(\"div\", class_=\"c-rating__score\").text)\n",
        "    # 感想\n",
        "    review = card_review.find(\"div\", class_=\"p-mark__review\").text\n",
        "\n",
        "\n",
        "    color = \"gray\"\n",
        "    if score <= 1.0:\n",
        "      color = \"lightgray\"\n",
        "    elif 1.0 < score <= 2.0:\n",
        "      color = \"brown\"\n",
        "    elif 2.0 < score <= 3.0:\n",
        "      color = \"yellow\"\n",
        "    elif 3.0 < score <= 4.0:\n",
        "      color = \"orange\"\n",
        "    elif 4.0 < score <= 5.0:\n",
        "      color = \"red\"\n",
        "\n",
        "    print(f\"{title = }\")\n",
        "    print(f\"{img_url = }\")\n",
        "    print(f\"{release_date = }\")\n",
        "    print(f\"{countries = }\")\n",
        "    print(f\"{genres = }\")\n",
        "    print(f\"{directors = }\")\n",
        "    print(f\"{writers = }\")\n",
        "    print(f\"{casts = }\")\n",
        "    print(f\"{watch_date = }\")\n",
        "    print(f\"{score = }\")\n",
        "    print(f\"{review = }\")\n",
        "    print(f\"{color = }\")\n",
        "    break\n",
        "  break"
      ]
    },
    {
      "cell_type": "markdown",
      "metadata": {
        "id": "Gu7cAEmXa3E7"
      },
      "source": [
        "# Notion"
      ]
    },
    {
      "cell_type": "code",
      "execution_count": null,
      "metadata": {
        "id": "c6N9wL_1giJT"
      },
      "outputs": [],
      "source": [
        "db_id = \"75fdbc514ccb4805bf3776a7f7a1b03b\"\n",
        "notion_integration_secret_token = 'secret_Wjz2Po6ZbgpOIIeMJYjLVvtCG0O6iBjDLRldd9z3n9W'\n",
        "api_url = \"https://api.notion.com/v1/\""
      ]
    },
    {
      "cell_type": "markdown",
      "metadata": {
        "id": "iQ-jTSAFi6oG"
      },
      "source": [
        "## DB情報のGET"
      ]
    },
    {
      "cell_type": "code",
      "execution_count": null,
      "metadata": {
        "id": "z2T5yydIisUi"
      },
      "outputs": [],
      "source": [
        "headers = {\n",
        "    \"Authorization\": f\"Bearer {notion_integration_secret_token}\",\n",
        "    \"Notion-Version\": \"2021-08-16\",\n",
        "}\n",
        "\n",
        "r = requests.get(urljoin(api_url, f\"databases/{db_id}\"), headers=headers)"
      ]
    },
    {
      "cell_type": "code",
      "execution_count": null,
      "metadata": {
        "colab": {
          "base_uri": "https://localhost:8080/"
        },
        "id": "Tc7zWjqqiyyL",
        "outputId": "7e58187c-b2f1-4392-f113-eea19a3b9c1f"
      },
      "outputs": [
        {
          "name": "stdout",
          "output_type": "stream",
          "text": [
            "{'archived': False,\n",
            " 'cover': None,\n",
            " 'created_by': {'id': '2fb3fd47-a66e-4de0-8336-e88584cc51b8', 'object': 'user'},\n",
            " 'created_time': '2023-01-14T11:58:00.000Z',\n",
            " 'description': [],\n",
            " 'icon': None,\n",
            " 'id': '75fdbc51-4ccb-4805-bf37-76a7f7a1b03b',\n",
            " 'is_inline': True,\n",
            " 'last_edited_by': {'id': '2fb3fd47-a66e-4de0-8336-e88584cc51b8',\n",
            "                    'object': 'user'},\n",
            " 'last_edited_time': '2023-01-14T13:44:00.000Z',\n",
            " 'object': 'database',\n",
            " 'parent': {'page_id': '19c8b3b0-0d39-48a1-80a1-117f49cac18d',\n",
            "            'type': 'page_id'},\n",
            " 'properties': {'filmarks': {'id': 'J%3FGu',\n",
            "                             'name': 'filmarks',\n",
            "                             'type': 'url',\n",
            "                             'url': {}},\n",
            "                'ジャンル': {'id': 'u%3DWK',\n",
            "                         'multi_select': {'options': [{'color': 'gray',\n",
            "                                                       'id': '04af1892-f59f-4753-8f3a-ba1db250fd8a',\n",
            "                                                       'name': 'サスペンス'},\n",
            "                                                      {'color': 'red',\n",
            "                                                       'id': '76dc57af-199c-4651-a936-dfd6d6186a59',\n",
            "                                                       'name': 'クライム'},\n",
            "                                                      {'color': 'purple',\n",
            "                                                       'id': '516417f5-e7d8-41dd-8f83-c291dcc59eff',\n",
            "                                                       'name': 'スリラー'},\n",
            "                                                      {'color': 'yellow',\n",
            "                                                       'id': '3155475c-90c8-4a73-ad2c-2e4a9ca9c9aa',\n",
            "                                                       'name': 'ドラマ'},\n",
            "                                                      {'color': 'brown',\n",
            "                                                       'id': '8bb4d031-a057-499c-95f8-62d1574a9b4e',\n",
            "                                                       'name': '歴史'}]},\n",
            "                         'name': 'ジャンル',\n",
            "                         'type': 'multi_select'},\n",
            "                'スコア': {'id': '%3ClAu',\n",
            "                        'name': 'スコア',\n",
            "                        'number': {'format': 'number'},\n",
            "                        'type': 'number'},\n",
            "                'タイトル': {'id': 'title',\n",
            "                         'name': 'タイトル',\n",
            "                         'title': {},\n",
            "                         'type': 'title'},\n",
            "                '上映日': {'date': {},\n",
            "                        'id': 'r%3Cko',\n",
            "                        'name': '上映日',\n",
            "                        'type': 'date'},\n",
            "                '出演者': {'id': 'okL~',\n",
            "                        'multi_select': {'options': [{'color': 'blue',\n",
            "                                                      'id': 'ea4639fc-6dd8-4cf6-ace2-15a8db4b1b54',\n",
            "                                                      'name': 'ロバート・デ・ニーロ'},\n",
            "                                                     {'color': 'red',\n",
            "                                                      'id': '15a0afeb-f791-4fbb-9575-6b60621563f0',\n",
            "                                                      'name': 'シビル・シェパード'},\n",
            "                                                     {'color': 'blue',\n",
            "                                                      'id': '8b597931-1fbb-4855-8158-4f927624d8be',\n",
            "                                                      'name': 'ピーター・ボイル'},\n",
            "                                                     {'color': 'red',\n",
            "                                                      'id': '0ad703d3-87ec-49c1-b136-84563bcf0661',\n",
            "                                                      'name': 'ジョディ・フォスター'},\n",
            "                                                     {'color': 'blue',\n",
            "                                                      'id': '7bd857a9-5bf3-435f-a668-26593a03648f',\n",
            "                                                      'name': 'アルバート・ブルックス'},\n",
            "                                                     {'color': 'blue',\n",
            "                                                      'id': '3e2e9f9d-cfac-4e36-b4a3-f64d8ca3768e',\n",
            "                                                      'name': 'ハーヴェイ・カイテル'},\n",
            "                                                     {'color': 'blue',\n",
            "                                                      'id': '403c1b05-9167-4b4d-8ad3-7a79bbbd4e28',\n",
            "                                                      'name': 'ジョー・スピネル'},\n",
            "                                                     {'color': 'blue',\n",
            "                                                      'id': 'e3e00902-319f-4ddd-943e-170304b6df2b',\n",
            "                                                      'name': 'マーティン・スコセッシ'},\n",
            "                                                     {'color': 'blue',\n",
            "                                                      'id': 'b1eac4e9-34b1-41a1-9e9b-ae5adc9e3c7c',\n",
            "                                                      'name': 'ダイアン・アボット'},\n",
            "                                                     {'color': 'blue',\n",
            "                                                      'id': 'ff3d1ebc-c1aa-46c4-b648-63e6a5d37114',\n",
            "                                                      'name': 'ヴィクター・アルゴ'},\n",
            "                                                     {'color': 'blue',\n",
            "                                                      'id': '41e0a185-9906-49ac-b082-b92854edb4ad',\n",
            "                                                      'name': 'レオナルド・ハリス'},\n",
            "                                                     {'color': 'blue',\n",
            "                                                      'id': 'ec5beb12-301c-4d89-ba21-e6dfe40bb1a6',\n",
            "                                                      'name': 'エディ・レッドメイン'},\n",
            "                                                     {'color': 'red',\n",
            "                                                      'id': '8d6d31da-6f39-4894-aeb2-33d9258f996a',\n",
            "                                                      'name': 'アリシア・ヴィキャンデル'},\n",
            "                                                     {'color': 'red',\n",
            "                                                      'id': 'b4b2f1a8-e2c3-4a2c-afe7-792a93b95c83',\n",
            "                                                      'name': 'アンバー・ハード'},\n",
            "                                                     {'color': 'blue',\n",
            "                                                      'id': '67a83331-752e-44c9-b1df-cc3ff57be4a2',\n",
            "                                                      'name': 'マティアス・スーナールツ'},\n",
            "                                                     {'color': 'blue',\n",
            "                                                      'id': 'f3aa9e60-d645-4e86-bcf0-f938ff50131d',\n",
            "                                                      'name': 'エイドリアン・シラー'},\n",
            "                                                     {'color': 'blue',\n",
            "                                                      'id': 'e1986415-895f-43ed-9ce2-42cc03c10b41',\n",
            "                                                      'name': 'ベン・ウィショー'},\n",
            "                                                     {'color': 'blue',\n",
            "                                                      'id': '2a8206f7-89cc-4119-a455-0b1f058cf0ea',\n",
            "                                                      'name': 'セバスチャン・コッホ'},\n",
            "                                                     {'color': 'red',\n",
            "                                                      'id': 'b3d4ea2f-4aed-4dd5-8afa-5220e87a0611',\n",
            "                                                      'name': 'エメラルド・フェンネル'}]},\n",
            "                        'name': '出演者',\n",
            "                        'type': 'multi_select'},\n",
            "                '制作国': {'id': 'uLCz',\n",
            "                        'multi_select': {'options': [{'color': 'red',\n",
            "                                                      'id': 'a9fb5b96-4b3f-43df-9592-ff455e1eadd9',\n",
            "                                                      'name': 'アメリカ'}]},\n",
            "                        'name': '制作国',\n",
            "                        'type': 'multi_select'},\n",
            "                '感想': {'id': 'zGof',\n",
            "                       'name': '感想',\n",
            "                       'rich_text': {},\n",
            "                       'type': 'rich_text'},\n",
            "                '画像': {'id': 'Ra~T', 'name': '画像', 'type': 'url', 'url': {}},\n",
            "                '監督': {'id': 'itBV',\n",
            "                       'multi_select': {'options': [{'color': 'default',\n",
            "                                                     'id': 'c812689d-821f-4c19-b7a3-648931fa9611',\n",
            "                                                     'name': 'マーティン・スコセッシ'},\n",
            "                                                    {'color': 'default',\n",
            "                                                     'id': 'ac190add-197c-4239-b574-8de834c1aa00',\n",
            "                                                     'name': 'トム・フーパー'}]},\n",
            "                       'name': '監督',\n",
            "                       'type': 'multi_select'},\n",
            "                '脚本': {'id': '%7Df%3EB',\n",
            "                       'multi_select': {'options': [{'color': 'gray',\n",
            "                                                     'id': '117fc4eb-80a4-4f8a-adca-245e2a4f1cd4',\n",
            "                                                     'name': 'ポール・シュレイダー'},\n",
            "                                                    {'color': 'gray',\n",
            "                                                     'id': '6501248b-726f-4031-8f20-9639d1610065',\n",
            "                                                     'name': 'ルシンダ・コクソン'}]},\n",
            "                       'name': '脚本',\n",
            "                       'type': 'multi_select'},\n",
            "                '視聴方法': {'id': 't%3B%5DK',\n",
            "                         'name': '視聴方法',\n",
            "                         'select': {'options': []},\n",
            "                         'type': 'select'},\n",
            "                '評価': {'formula': {'expression': 'if(empty(prop(\"スコア\")), '\n",
            "                                                 '\"watchlist\", slice(\"★★★★★\", '\n",
            "                                                 '0, round(prop(\"スコア\"))) + '\n",
            "                                                 'slice(\"☆☆☆☆☆\", 0, 5 - '\n",
            "                                                 'round(prop(\"スコア\"))))'},\n",
            "                       'id': 'vbRV',\n",
            "                       'name': '評価',\n",
            "                       'type': 'formula'},\n",
            "                '鑑賞日': {'date': {},\n",
            "                        'id': '%3C_ab',\n",
            "                        'name': '鑑賞日',\n",
            "                        'type': 'date'}},\n",
            " 'title': [{'annotations': {'bold': False,\n",
            "                            'code': False,\n",
            "                            'color': 'default',\n",
            "                            'italic': False,\n",
            "                            'strikethrough': False,\n",
            "                            'underline': False},\n",
            "            'href': None,\n",
            "            'plain_text': '[movies]',\n",
            "            'text': {'content': '[movies]', 'link': None},\n",
            "            'type': 'text'}],\n",
            " 'url': 'https://www.notion.so/75fdbc514ccb4805bf3776a7f7a1b03b'}\n"
          ]
        }
      ],
      "source": [
        "pprint(r.json())"
      ]
    },
    {
      "cell_type": "markdown",
      "metadata": {
        "id": "7ouALEc5jj_i"
      },
      "source": [
        "## DBの全ページを取得(POST)"
      ]
    },
    {
      "cell_type": "code",
      "execution_count": null,
      "metadata": {
        "id": "jQqnKwHoi4rZ"
      },
      "outputs": [],
      "source": [
        "headers = {\n",
        "    \"Authorization\": f\"Bearer {notion_integration_secret_token}\",\n",
        "    \"Notion-Version\": \"2022-06-28\",\n",
        "    \"Content-Type\": \"application/json\",\n",
        "}\n",
        "\n",
        "r = requests.post(urljoin(api_url, f\"databases/{db_id}/query\"), headers=headers)"
      ]
    },
    {
      "cell_type": "code",
      "execution_count": null,
      "metadata": {
        "colab": {
          "base_uri": "https://localhost:8080/"
        },
        "id": "YMn39x6Yj2DY",
        "outputId": "7768045b-82b0-40bd-d547-e219c06ffa7b"
      },
      "outputs": [
        {
          "name": "stdout",
          "output_type": "stream",
          "text": [
            "{'archived': False,\n",
            " 'cover': {'external': {'url': 'https://d2ueuvlup6lbue.cloudfront.net/attachments/6c63b649e8a5217ff171a3f8902c31a7802a7f5c/store/fitpad/260/364/59bc12e9f969df0a664a685f90793efe7b3d2dc88e6793fde61aaf71feee/_.jpg'},\n",
            "           'type': 'external'},\n",
            " 'created_by': {'id': '2fb3fd47-a66e-4de0-8336-e88584cc51b8', 'object': 'user'},\n",
            " 'created_time': '2023-01-14T11:58:00.000Z',\n",
            " 'icon': {'external': {'url': 'https://www.notion.so/icons/movie_orange.svg'},\n",
            "          'type': 'external'},\n",
            " 'id': '342bc15f-0170-402a-8c2f-73f09e012ef2',\n",
            " 'last_edited_by': {'id': '2fb3fd47-a66e-4de0-8336-e88584cc51b8',\n",
            "                    'object': 'user'},\n",
            " 'last_edited_time': '2023-01-14T14:28:00.000Z',\n",
            " 'object': 'page',\n",
            " 'parent': {'database_id': '75fdbc51-4ccb-4805-bf37-76a7f7a1b03b',\n",
            "            'type': 'database_id'},\n",
            " 'properties': {'filmarks': {'id': 'J%3FGu',\n",
            "                             'type': 'url',\n",
            "                             'url': 'https://filmarks.com/movies/61639?mark_id=147019787'},\n",
            "                'ジャンル': {'id': 'u%3DWK',\n",
            "                         'multi_select': [{'color': 'yellow',\n",
            "                                           'id': '3155475c-90c8-4a73-ad2c-2e4a9ca9c9aa',\n",
            "                                           'name': 'ドラマ'},\n",
            "                                          {'color': 'brown',\n",
            "                                           'id': '8bb4d031-a057-499c-95f8-62d1574a9b4e',\n",
            "                                           'name': '歴史'}],\n",
            "                         'type': 'multi_select'},\n",
            "                'スコア': {'id': '%3ClAu', 'number': 4.4, 'type': 'number'},\n",
            "                'タイトル': {'id': 'title',\n",
            "                         'title': [{'annotations': {'bold': False,\n",
            "                                                    'code': False,\n",
            "                                                    'color': 'default',\n",
            "                                                    'italic': False,\n",
            "                                                    'strikethrough': False,\n",
            "                                                    'underline': False},\n",
            "                                    'href': None,\n",
            "                                    'plain_text': 'リリーのすべて',\n",
            "                                    'text': {'content': 'リリーのすべて',\n",
            "                                             'link': None},\n",
            "                                    'type': 'text'}],\n",
            "                         'type': 'title'},\n",
            "                '上映日': {'date': {'end': None,\n",
            "                                 'start': '2016-03-18',\n",
            "                                 'time_zone': None},\n",
            "                        'id': 'r%3Cko',\n",
            "                        'type': 'date'},\n",
            "                '出演者': {'id': 'okL~',\n",
            "                        'multi_select': [{'color': 'blue',\n",
            "                                          'id': 'ec5beb12-301c-4d89-ba21-e6dfe40bb1a6',\n",
            "                                          'name': 'エディ・レッドメイン'},\n",
            "                                         {'color': 'red',\n",
            "                                          'id': '8d6d31da-6f39-4894-aeb2-33d9258f996a',\n",
            "                                          'name': 'アリシア・ヴィキャンデル'},\n",
            "                                         {'color': 'red',\n",
            "                                          'id': 'b4b2f1a8-e2c3-4a2c-afe7-792a93b95c83',\n",
            "                                          'name': 'アンバー・ハード'},\n",
            "                                         {'color': 'blue',\n",
            "                                          'id': '67a83331-752e-44c9-b1df-cc3ff57be4a2',\n",
            "                                          'name': 'マティアス・スーナールツ'},\n",
            "                                         {'color': 'blue',\n",
            "                                          'id': 'f3aa9e60-d645-4e86-bcf0-f938ff50131d',\n",
            "                                          'name': 'エイドリアン・シラー'},\n",
            "                                         {'color': 'blue',\n",
            "                                          'id': 'e1986415-895f-43ed-9ce2-42cc03c10b41',\n",
            "                                          'name': 'ベン・ウィショー'},\n",
            "                                         {'color': 'blue',\n",
            "                                          'id': '2a8206f7-89cc-4119-a455-0b1f058cf0ea',\n",
            "                                          'name': 'セバスチャン・コッホ'},\n",
            "                                         {'color': 'red',\n",
            "                                          'id': 'b3d4ea2f-4aed-4dd5-8afa-5220e87a0611',\n",
            "                                          'name': 'エメラルド・フェンネル'}],\n",
            "                        'type': 'multi_select'},\n",
            "                '制作国': {'id': 'uLCz',\n",
            "                        'multi_select': [{'color': 'red',\n",
            "                                          'id': 'a9fb5b96-4b3f-43df-9592-ff455e1eadd9',\n",
            "                                          'name': 'アメリカ'}],\n",
            "                        'type': 'multi_select'},\n",
            "                '感想': {'id': 'zGof',\n",
            "                       'rich_text': [{'annotations': {'bold': False,\n",
            "                                                      'code': False,\n",
            "                                                      'color': 'default',\n",
            "                                                      'italic': False,\n",
            "                                                      'strikethrough': False,\n",
            "                                                      'underline': False},\n",
            "                                      'href': None,\n",
            "                                      'plain_text': '全てが美しい',\n",
            "                                      'text': {'content': '全てが美しい',\n",
            "                                               'link': None},\n",
            "                                      'type': 'text'}],\n",
            "                       'type': 'rich_text'},\n",
            "                '画像': {'id': 'Ra~T',\n",
            "                       'type': 'url',\n",
            "                       'url': 'https://d2ueuvlup6lbue.cloudfront.net/attachments/6c63b649e8a5217ff171a3f8902c31a7802a7f5c/store/fitpad/260/364/59bc12e9f969df0a664a685f90793efe7b3d2dc88e6793fde61aaf71feee/_.jpg'},\n",
            "                '監督': {'id': 'itBV',\n",
            "                       'multi_select': [{'color': 'default',\n",
            "                                         'id': 'ac190add-197c-4239-b574-8de834c1aa00',\n",
            "                                         'name': 'トム・フーパー'}],\n",
            "                       'type': 'multi_select'},\n",
            "                '脚本': {'id': '%7Df%3EB',\n",
            "                       'multi_select': [{'color': 'gray',\n",
            "                                         'id': '6501248b-726f-4031-8f20-9639d1610065',\n",
            "                                         'name': 'ルシンダ・コクソン'}],\n",
            "                       'type': 'multi_select'},\n",
            "                '視聴方法': {'id': 't%3B%5DK', 'select': None, 'type': 'select'},\n",
            "                '評価': {'formula': {'string': '★★★★☆', 'type': 'string'},\n",
            "                       'id': 'vbRV',\n",
            "                       'type': 'formula'},\n",
            "                '鑑賞日': {'date': None, 'id': '%3C_ab', 'type': 'date'},\n",
            "                '集計': {'has_more': False,\n",
            "                       'id': 'K%3Fi%3F',\n",
            "                       'relation': [],\n",
            "                       'type': 'relation'}},\n",
            " 'url': 'https://www.notion.so/342bc15f0170402a8c2f73f09e012ef2'}\n"
          ]
        }
      ],
      "source": [
        "pprint(r.json()[\"results\"][1])"
      ]
    },
    {
      "cell_type": "code",
      "execution_count": null,
      "metadata": {
        "id": "YaTbhd5A1h2a"
      },
      "outputs": [],
      "source": [
        "pbar_page_cache = {}\n",
        "\n",
        "db_pbar_id = \"01328a1886924dd9b02ef3c41c37426e\"\n",
        "headers = {\n",
        "    \"Authorization\": f\"Bearer {notion_integration_secret_token}\",\n",
        "    \"Notion-Version\": \"2022-06-28\",\n",
        "    \"Content-Type\": \"application/json\",\n",
        "}\n",
        "\n",
        "def get_pbar_page_id(year: int):\n",
        "  if year in pbar_page_cache:\n",
        "    return pbar_page_cache[year]\n",
        "\n",
        "  data = {\n",
        "    \"filter\": {\n",
        "        \"property\": \"年初\",\n",
        "        \"date\": {\"equals\": date(year, 1, 1).isoformat()}\n",
        "    }\n",
        "  }\n",
        "\n",
        "  r = requests.post(urljoin(api_url, f\"databases/{db_pbar_id}/query\"), headers=headers, data=json.dumps(data))\n",
        "\n",
        "  if r.status_code == 200 and r.json()[\"results\"] != []:\n",
        "    id = r.json()[\"results\"][0][\"id\"]\n",
        "    pbar_page_cache[year] = id\n",
        "\n",
        "    return id\n",
        "\n",
        "  data = {\n",
        "      'parent': {'database_id': db_pbar_id},\n",
        "      'properties': {\n",
        "          '年': {'title': [{'text': {'content': str(year)}}]},\n",
        "          '年初': {'date': {'start': date(year, 1, 1).isoformat()}}\n",
        "          },\n",
        "  }\n",
        "\n",
        "  r = requests.post(urljoin(api_url, \"pages\"), headers=headers, data=json.dumps(data))\n",
        "  if r.status_code == 200:\n",
        "    id = r.json()[\"id\"]\n",
        "    pbar_page_cache[year] = id\n",
        "\n",
        "    return id\n",
        "\n",
        "  return \"\""
      ]
    },
    {
      "cell_type": "code",
      "execution_count": null,
      "metadata": {
        "colab": {
          "base_uri": "https://localhost:8080/"
        },
        "id": "QFY-ihin1wws",
        "outputId": "1d546025-263d-41f8-8e06-366a11ef6da2"
      },
      "outputs": [
        {
          "name": "stdout",
          "output_type": "stream",
          "text": [
            "{'archived': False,\n",
            " 'cover': None,\n",
            " 'created_by': {'id': '2fb3fd47-a66e-4de0-8336-e88584cc51b8', 'object': 'user'},\n",
            " 'created_time': '2023-01-14T09:06:00.000Z',\n",
            " 'icon': None,\n",
            " 'id': '8b3e3291-90af-4e52-80a4-1b75fb0e83b0',\n",
            " 'last_edited_by': {'id': '2fb3fd47-a66e-4de0-8336-e88584cc51b8',\n",
            "                    'object': 'user'},\n",
            " 'last_edited_time': '2023-01-14T12:44:00.000Z',\n",
            " 'object': 'page',\n",
            " 'parent': {'database_id': '01328a18-8692-4dd9-b02e-f3c41c37426e',\n",
            "            'type': 'database_id'},\n",
            " 'properties': {'年': {'id': 'title',\n",
            "                      'title': [{'annotations': {'bold': False,\n",
            "                                                 'code': False,\n",
            "                                                 'color': 'default',\n",
            "                                                 'italic': False,\n",
            "                                                 'strikethrough': False,\n",
            "                                                 'underline': False},\n",
            "                                 'href': None,\n",
            "                                 'plain_text': '2023',\n",
            "                                 'text': {'content': '2023', 'link': None},\n",
            "                                 'type': 'text'}],\n",
            "                      'type': 'title'},\n",
            "                '年初': {'date': {'end': None,\n",
            "                                'start': '2023-01-01',\n",
            "                                'time_zone': None},\n",
            "                       'id': 'zXoB',\n",
            "                       'type': 'date'},\n",
            "                '年経過率': {'formula': {'number': 0.04, 'type': 'number'},\n",
            "                         'id': 'V%60kK',\n",
            "                         'type': 'formula'},\n",
            "                '視聴数': {'id': 'zpbJ',\n",
            "                        'rollup': {'function': 'count',\n",
            "                                   'number': 2,\n",
            "                                   'type': 'number'},\n",
            "                        'type': 'rollup'},\n",
            "                '観た映画': {'has_more': False,\n",
            "                         'id': 'b%3EIS',\n",
            "                         'relation': [{'id': '342bc15f-0170-402a-8c2f-73f09e012ef2'},\n",
            "                                      {'id': '288ac49d-d7f0-48f9-a5a0-c2c1a21a7da2'}],\n",
            "                         'type': 'relation'}},\n",
            " 'url': 'https://www.notion.so/2023-8b3e329190af4e5280a41b75fb0e83b0'}\n"
          ]
        }
      ],
      "source": [
        "pprint(r.json()[\"results\"][0])"
      ]
    },
    {
      "cell_type": "code",
      "execution_count": null,
      "metadata": {
        "id": "M-75T6IyGKXW"
      },
      "outputs": [],
      "source": [
        "year = 2022\n",
        "data = {\n",
        "    'parent': {\n",
        "        'database_id': '01328a18-8692-4dd9-b02e-f3c41c37426e'\n",
        "        },\n",
        "    'properties': {\n",
        "        '年': {'title': [{'text': {'content': str(year)}}]},\n",
        "        '年初': {'date': {'start': f\"{year}-01-01\"}}\n",
        "        },\n",
        "}"
      ]
    },
    {
      "cell_type": "markdown",
      "metadata": {
        "id": "g73y_A0qkhqK"
      },
      "source": [
        "## ページのCREATE"
      ]
    },
    {
      "cell_type": "markdown",
      "metadata": {
        "id": "8q3D8N97klKs"
      },
      "source": [
        "```bash\n",
        "curl 'https://api.notion.com/v1/pages' \\\n",
        "  -H 'Authorization: Bearer '\"$NOTION_API_KEY\"'' \\\n",
        "  -H \"Content-Type: application/json\" \\\n",
        "  -H \"Notion-Version: 2022-06-28\" \\\n",
        "  --data '{\n",
        "\t\"parent\": { \"database_id\": \"d9824bdc84454327be8b5b47500af6ce\" },\n",
        "  \"icon\": {\n",
        "  \t\"emoji\": \"🥬\"\n",
        "  },\n",
        "\t\"cover\": {\n",
        "\t\t\"external\": {\n",
        "\t\t\t\"url\": \"https://upload.wikimedia.org/wikipedia/commons/6/62/Tuscankale.jpg\"\n",
        "\t\t}\n",
        "\t},\n",
        "\t\"properties\": {\n",
        "\t\t\"Name\": {\n",
        "\t\t\t\"title\": [\n",
        "\t\t\t\t{\n",
        "\t\t\t\t\t\"text\": {\n",
        "\t\t\t\t\t\t\"content\": \"Tuscan Kale\"\n",
        "\t\t\t\t\t}\n",
        "\t\t\t\t}\n",
        "\t\t\t]\n",
        "\t\t},\n",
        "\t\t\"Description\": {\n",
        "\t\t\t\"rich_text\": [\n",
        "\t\t\t\t{\n",
        "\t\t\t\t\t\"text\": {\n",
        "\t\t\t\t\t\t\"content\": \"A dark green leafy vegetable\"\n",
        "\t\t\t\t\t}\n",
        "\t\t\t\t}\n",
        "\t\t\t]\n",
        "\t\t},\n",
        "\t\t\"Food group\": {\n",
        "\t\t\t\"select\": {\n",
        "\t\t\t\t\"name\": \"Vegetable\"\n",
        "\t\t\t}\n",
        "\t\t},\n",
        "\t\t\"Price\": { \"number\": 2.5 }\n",
        "\t},\n",
        "\t\"children\": [\n",
        "\t\t{\n",
        "\t\t\t\"object\": \"block\",\n",
        "\t\t\t\"type\": \"heading_2\",\n",
        "\t\t\t\"heading_2\": {\n",
        "\t\t\t\t\"rich_text\": [{ \"type\": \"text\", \"text\": { \"content\": \"Lacinato kale\" } }]\n",
        "\t\t\t}\n",
        "\t\t},\n",
        "\t\t{\n",
        "\t\t\t\"object\": \"block\",\n",
        "\t\t\t\"type\": \"paragraph\",\n",
        "\t\t\t\"paragraph\": {\n",
        "\t\t\t\t\"rich_text\": [\n",
        "\t\t\t\t\t{\n",
        "\t\t\t\t\t\t\"type\": \"text\",\n",
        "\t\t\t\t\t\t\"text\": {\n",
        "\t\t\t\t\t\t\t\"content\": \"Lacinato kale is a variety of kale with a long tradition in Italian cuisine, especially that of Tuscany. It is also known as Tuscan kale, Italian kale, dinosaur kale, kale, flat back kale, palm tree kale, or black Tuscan palm.\",\n",
        "\t\t\t\t\t\t\t\"link\": { \"url\": \"https://en.wikipedia.org/wiki/Lacinato_kale\" }\n",
        "\t\t\t\t\t\t}\n",
        "\t\t\t\t\t}\n",
        "\t\t\t\t]\n",
        "\t\t\t}\n",
        "\t\t}\n",
        "\t]\n",
        "}'\n",
        "```"
      ]
    },
    {
      "cell_type": "code",
      "execution_count": null,
      "metadata": {
        "colab": {
          "base_uri": "https://localhost:8080/"
        },
        "id": "_bAHvzcjj3wR",
        "outputId": "9df0e528-3725-4dee-8545-cb19034b8a43"
      },
      "outputs": [
        {
          "name": "stdout",
          "output_type": "stream",
          "text": [
            "200\n"
          ]
        }
      ],
      "source": [
        "headers = {\n",
        "    \"Authorization\": f\"Bearer {notion_integration_secret_token}\",\n",
        "    \"Notion-Version\": \"2022-06-28\",\n",
        "    \"Content-Type\": \"application/json\",\n",
        "}\n",
        "\n",
        "data = {\n",
        "    \"parent\": {\n",
        "        \"database_id\": db_id,\n",
        "    },\n",
        "    \"icon\": {\n",
        "        'external': {'url': f\"https://www.notion.so/icons/movie_{color}.svg\"},\n",
        "    },\n",
        "    \"cover\": {\n",
        "        'external': {'url': img_url},\n",
        "    },\n",
        "    \"properties\": {\n",
        "        'タイトル': {\n",
        "            'title': [\n",
        "                {\n",
        "                    'text': {\n",
        "                        'content': title\n",
        "                    }\n",
        "                }\n",
        "            ],\n",
        "        },\n",
        "        'スコア': {\n",
        "            'number': score\n",
        "        },\n",
        "        '感想': {\n",
        "            'rich_text': [\n",
        "                {\n",
        "                    \"type\": \"text\",\n",
        "                    'text': {\n",
        "                        'content': review\n",
        "                    },\n",
        "                 }\n",
        "            ],\n",
        "        },\n",
        "        '鑑賞日': {\n",
        "            'date': {\n",
        "                \"start\": watch_date.isoformat()\n",
        "            }\n",
        "        },\n",
        "        '上映日': {\n",
        "            'date': {\n",
        "                'start': release_date.isoformat()\n",
        "            }\n",
        "        },\n",
        "        '制作国': {\n",
        "            'multi_select': [{'name': country} for country in countries],\n",
        "        },\n",
        "        'ジャンル': {\n",
        "            'multi_select': [{'name': genre} for genre in genres],\n",
        "        },\n",
        "        '監督': {\n",
        "            'multi_select': [{'name': person} for person in directors],\n",
        "        },\n",
        "        '脚本': {\n",
        "            'multi_select': [{'name': person} for person in writers],\n",
        "        },\n",
        "        '出演者': {\n",
        "            'multi_select': [{'name': person} for person in casts],\n",
        "        },\n",
        "        'filmarks': {'url': movie_url},\n",
        "        '画像': {'url': img_url}\n",
        "    }\n",
        "}\n",
        "\n",
        "relation_id = get_pbar_page(watch_date.year)\n",
        "if relation_id:\n",
        "  data[\"properties\"]['集計']= {\n",
        "      'relation': [{\"id\": relation_id}],\n",
        "      'has_more': False,\n",
        "      }\n",
        "\n",
        "r = requests.post(urljoin(api_url, \"pages\"), headers=headers, data=json.dumps(data))\n",
        "print(r.status_code)"
      ]
    },
    {
      "cell_type": "code",
      "execution_count": null,
      "metadata": {
        "colab": {
          "base_uri": "https://localhost:8080/"
        },
        "id": "NSXE3_vswyMx",
        "outputId": "5a528c6e-bc0a-4ab5-fdf1-d272c5a90944"
      },
      "outputs": [
        {
          "name": "stdout",
          "output_type": "stream",
          "text": [
            "{'archived': False,\n",
            " 'cover': {'external': {'url': 'https://d2ueuvlup6lbue.cloudfront.net/attachments/8faceb5f89e1587fae260af6286cc7ff2fab793f/store/fitpad/260/364/088162cd4d520a301a9a4b14b65073c64b4600a325c90afaee131dcb416a/_.jpg'},\n",
            "           'type': 'external'},\n",
            " 'created_by': {'id': 'fc670814-e99b-4092-99f3-715cbc098986', 'object': 'user'},\n",
            " 'created_time': '2023-01-14T16:03:00.000Z',\n",
            " 'icon': {'external': {'url': 'https://www.notion.so/icons/movie_orange.svg'},\n",
            "          'type': 'external'},\n",
            " 'id': '7726cce9-212a-4634-a6b3-d78f1a222bd8',\n",
            " 'last_edited_by': {'id': 'fc670814-e99b-4092-99f3-715cbc098986',\n",
            "                    'object': 'user'},\n",
            " 'last_edited_time': '2023-01-14T16:03:00.000Z',\n",
            " 'object': 'page',\n",
            " 'parent': {'database_id': '75fdbc51-4ccb-4805-bf37-76a7f7a1b03b',\n",
            "            'type': 'database_id'},\n",
            " 'properties': {'Created by': {'created_by': {'avatar_url': None,\n",
            "                                              'bot': {},\n",
            "                                              'id': 'fc670814-e99b-4092-99f3-715cbc098986',\n",
            "                                              'name': 'Movie-Integration',\n",
            "                                              'object': 'user',\n",
            "                                              'type': 'bot'},\n",
            "                               'id': 'QJfG',\n",
            "                               'type': 'created_by'},\n",
            "                'filmarks': {'id': 'J%3FGu',\n",
            "                             'type': 'url',\n",
            "                             'url': 'https://filmarks.com/movies/33172?mark_id=147182566'},\n",
            "                'ジャンル': {'id': 'u%3DWK',\n",
            "                         'multi_select': [{'color': 'gray',\n",
            "                                           'id': '04af1892-f59f-4753-8f3a-ba1db250fd8a',\n",
            "                                           'name': 'サスペンス'},\n",
            "                                          {'color': 'red',\n",
            "                                           'id': '76dc57af-199c-4651-a936-dfd6d6186a59',\n",
            "                                           'name': 'クライム'},\n",
            "                                          {'color': 'purple',\n",
            "                                           'id': '516417f5-e7d8-41dd-8f83-c291dcc59eff',\n",
            "                                           'name': 'スリラー'}],\n",
            "                         'type': 'multi_select'},\n",
            "                'スコア': {'id': '%3ClAu', 'number': 3.7, 'type': 'number'},\n",
            "                'タイトル': {'id': 'title',\n",
            "                         'title': [{'annotations': {'bold': False,\n",
            "                                                    'code': False,\n",
            "                                                    'color': 'default',\n",
            "                                                    'italic': False,\n",
            "                                                    'strikethrough': False,\n",
            "                                                    'underline': False},\n",
            "                                    'href': None,\n",
            "                                    'plain_text': 'タクシードライバー',\n",
            "                                    'text': {'content': 'タクシードライバー',\n",
            "                                             'link': None},\n",
            "                                    'type': 'text'}],\n",
            "                         'type': 'title'},\n",
            "                '上映日': {'date': {'end': None,\n",
            "                                 'start': '1976-09-18',\n",
            "                                 'time_zone': None},\n",
            "                        'id': 'r%3Cko',\n",
            "                        'type': 'date'},\n",
            "                '出演者': {'id': 'okL~',\n",
            "                        'multi_select': [{'color': 'blue',\n",
            "                                          'id': 'ea4639fc-6dd8-4cf6-ace2-15a8db4b1b54',\n",
            "                                          'name': 'ロバート・デ・ニーロ'},\n",
            "                                         {'color': 'red',\n",
            "                                          'id': '15a0afeb-f791-4fbb-9575-6b60621563f0',\n",
            "                                          'name': 'シビル・シェパード'},\n",
            "                                         {'color': 'blue',\n",
            "                                          'id': '8b597931-1fbb-4855-8158-4f927624d8be',\n",
            "                                          'name': 'ピーター・ボイル'},\n",
            "                                         {'color': 'red',\n",
            "                                          'id': '0ad703d3-87ec-49c1-b136-84563bcf0661',\n",
            "                                          'name': 'ジョディ・フォスター'},\n",
            "                                         {'color': 'blue',\n",
            "                                          'id': '7bd857a9-5bf3-435f-a668-26593a03648f',\n",
            "                                          'name': 'アルバート・ブルックス'},\n",
            "                                         {'color': 'blue',\n",
            "                                          'id': '3e2e9f9d-cfac-4e36-b4a3-f64d8ca3768e',\n",
            "                                          'name': 'ハーヴェイ・カイテル'},\n",
            "                                         {'color': 'blue',\n",
            "                                          'id': '403c1b05-9167-4b4d-8ad3-7a79bbbd4e28',\n",
            "                                          'name': 'ジョー・スピネル'},\n",
            "                                         {'color': 'blue',\n",
            "                                          'id': 'e3e00902-319f-4ddd-943e-170304b6df2b',\n",
            "                                          'name': 'マーティン・スコセッシ'},\n",
            "                                         {'color': 'blue',\n",
            "                                          'id': 'b1eac4e9-34b1-41a1-9e9b-ae5adc9e3c7c',\n",
            "                                          'name': 'ダイアン・アボット'},\n",
            "                                         {'color': 'blue',\n",
            "                                          'id': 'ff3d1ebc-c1aa-46c4-b648-63e6a5d37114',\n",
            "                                          'name': 'ヴィクター・アルゴ'},\n",
            "                                         {'color': 'blue',\n",
            "                                          'id': '41e0a185-9906-49ac-b082-b92854edb4ad',\n",
            "                                          'name': 'レオナルド・ハリス'}],\n",
            "                        'type': 'multi_select'},\n",
            "                '制作国': {'id': 'uLCz',\n",
            "                        'multi_select': [{'color': 'red',\n",
            "                                          'id': 'a9fb5b96-4b3f-43df-9592-ff455e1eadd9',\n",
            "                                          'name': 'アメリカ'}],\n",
            "                        'type': 'multi_select'},\n",
            "                '感想': {'id': 'zGof',\n",
            "                       'rich_text': [{'annotations': {'bold': False,\n",
            "                                                      'code': False,\n",
            "                                                      'color': 'default',\n",
            "                                                      'italic': False,\n",
            "                                                      'strikethrough': False,\n",
            "                                                      'underline': False},\n",
            "                                      'href': None,\n",
            "                                      'plain_text': 'バックボーン違いすぎてアメリカンニューシネマは理解共感しづらい',\n",
            "                                      'text': {'content': 'バックボーン違いすぎてアメリカンニューシネマは理解共感しづらい',\n",
            "                                               'link': None},\n",
            "                                      'type': 'text'}],\n",
            "                       'type': 'rich_text'},\n",
            "                '画像': {'id': 'Ra~T',\n",
            "                       'type': 'url',\n",
            "                       'url': 'https://d2ueuvlup6lbue.cloudfront.net/attachments/8faceb5f89e1587fae260af6286cc7ff2fab793f/store/fitpad/260/364/088162cd4d520a301a9a4b14b65073c64b4600a325c90afaee131dcb416a/_.jpg'},\n",
            "                '監督': {'id': 'itBV',\n",
            "                       'multi_select': [{'color': 'default',\n",
            "                                         'id': 'c812689d-821f-4c19-b7a3-648931fa9611',\n",
            "                                         'name': 'マーティン・スコセッシ'}],\n",
            "                       'type': 'multi_select'},\n",
            "                '脚本': {'id': '%7Df%3EB',\n",
            "                       'multi_select': [{'color': 'gray',\n",
            "                                         'id': '117fc4eb-80a4-4f8a-adca-245e2a4f1cd4',\n",
            "                                         'name': 'ポール・シュレイダー'}],\n",
            "                       'type': 'multi_select'},\n",
            "                '視聴方法': {'id': 't%3B%5DK', 'select': None, 'type': 'select'},\n",
            "                '評価': {'formula': {'string': '★★★★☆', 'type': 'string'},\n",
            "                       'id': 'vbRV',\n",
            "                       'type': 'formula'},\n",
            "                '鑑賞日': {'date': {'end': None,\n",
            "                                 'start': '2023-01-13',\n",
            "                                 'time_zone': None},\n",
            "                        'id': '%3C_ab',\n",
            "                        'type': 'date'},\n",
            "                '集計': {'has_more': False,\n",
            "                       'id': 'K%3Fi%3F',\n",
            "                       'relation': [{'id': '8b3e3291-90af-4e52-80a4-1b75fb0e83b0'}],\n",
            "                       'type': 'relation'}},\n",
            " 'url': 'https://www.notion.so/7726cce9212a4634a6b3d78f1a222bd8'}\n"
          ]
        }
      ],
      "source": [
        "pprint(r.json())"
      ]
    },
    {
      "cell_type": "markdown",
      "metadata": {
        "id": "HWqGeH6NBuKt"
      },
      "source": [
        "# 全部まとめる"
      ]
    },
    {
      "cell_type": "code",
      "execution_count": 44,
      "metadata": {
        "id": "twxeZGqhCzsS"
      },
      "outputs": [],
      "source": [
        "import json\n",
        "import re\n",
        "from datetime import datetime, date\n",
        "from pprint import pprint\n",
        "from urllib.parse import urljoin, urlparse, urlunparse\n",
        "\n",
        "import requests\n",
        "from bs4 import BeautifulSoup\n",
        "\n",
        "filmarks_url = \"https://filmarks.com\"\n",
        "filmarks_id = \"fairy26\"\n",
        "\n",
        "NOTION_TOKEN = 'secret_Wjz2Po6ZbgpOIIeMJYjLVvtCG0O6iBjDLRldd9z3n9W'\n",
        "DB_MOVIE_ID = \"75fdbc514ccb4805bf3776a7f7a1b03b\"\n",
        "DB_PBAR_ID = \"01328a1886924dd9b02ef3c41c37426e\"\n",
        "\n",
        "API_URL = \"https://api.notion.com/v1/\"\n",
        "HEADERS = {\n",
        "    \"Authorization\": f\"Bearer {NOTION_TOKEN}\",\n",
        "    \"Notion-Version\": \"2022-06-28\",\n",
        "    \"Content-Type\": \"application/json\",\n",
        "}\n",
        "\n",
        "pbar_page_cache = {}\n",
        "\n",
        "\n",
        "def get_pbar_page_id(year: int):\n",
        "  if year in pbar_page_cache:\n",
        "    return pbar_page_cache[year]\n",
        "\n",
        "  data = {\n",
        "    \"filter\": {\n",
        "        \"property\": \"年初\",\n",
        "        \"date\": {\"equals\": date(year, 1, 1).isoformat()}\n",
        "    }\n",
        "  }\n",
        "\n",
        "  r = requests.post(urljoin(API_URL, f\"databases/{DB_PBAR_ID}/query\"), headers=HEADERS, data=json.dumps(data))\n",
        "\n",
        "  if r.status_code == 200 and r.json()[\"results\"] != []:\n",
        "    id = r.json()[\"results\"][0][\"id\"]\n",
        "    pbar_page_cache[year] = id\n",
        "\n",
        "    return id\n",
        "\n",
        "  data = {\n",
        "      'parent': {'database_id': DB_PBAR_ID},\n",
        "      'properties': {\n",
        "          '年': {'title': [{'text': {'content': str(year)}}]},\n",
        "          '年初': {'date': {'start': date(year, 1, 1).isoformat()}}\n",
        "          },\n",
        "  }\n",
        "\n",
        "  r = requests.post(urljoin(API_URL, \"pages\"), headers=HEADERS, data=json.dumps(data))\n",
        "  if r.status_code == 200:\n",
        "    id = r.json()[\"id\"]\n",
        "    pbar_page_cache[year] = id\n",
        "\n",
        "    return id\n",
        "\n",
        "  return \"\"\n",
        "\n",
        "\n",
        "class Properties:\n",
        "  def __init__(self, db_id):\n",
        "    self.db_id = db_id\n",
        "\n",
        "    self.title = \"\"\n",
        "    self.score = 0.0\n",
        "    self.review = \"\"\n",
        "    \n",
        "    self.movie_url = \"\"\n",
        "    self.img_url = \"\"\n",
        "    self.watch_date: date = None\n",
        "    self.release_year: int = None\n",
        "    self.countries = []\n",
        "    self.genres = []\n",
        "    self.directors = []\n",
        "    self.writers = []\n",
        "    self.casts = []\n",
        "  \n",
        "\n",
        "  def export(self) -> dict:\n",
        "    def _multi_select_items(name_llist):\n",
        "      return [{'name': name} for name in name_llist]\n",
        "    \n",
        "    def _color_of(score):\n",
        "      if not isinstance(score, float):\n",
        "        return \"gray\"\n",
        "      \n",
        "      star = round(score)\n",
        "      if star <= 1: # 0.0 <= score < 1.5\n",
        "        return \"lightgray\"\n",
        "      elif star == 2: # 1.5 <= score < 2.5\n",
        "        return \"brown\"\n",
        "      elif star == 3: # 2.5 <= score < 3.5\n",
        "        return \"yellow\"\n",
        "      elif star == 4: # 3.5 <= score < 4.5\n",
        "        return \"orange\"\n",
        "      elif star == 5: # 4.5 <= score < 5.0\n",
        "        return \"red\"\n",
        "      \n",
        "      return \"gray\"\n",
        "\n",
        "    return {\n",
        "        \"parent\": {\"database_id\": self.db_id},\n",
        "        \"icon\": {'external': {'url': f\"https://www.notion.so/icons/movie_{_color_of(self.score)}.svg\"}},\n",
        "        \"cover\": {'external': {'url': self.img_url}},\n",
        "        \"properties\": {\n",
        "          'タイトル': {'title': [{'text': {'content': self.title}}]},\n",
        "          'スコア': {'number': self.score},\n",
        "          '感想': {'rich_text': [{'text': {'content': self.review}}]},\n",
        "          '鑑賞日': {'date': {\"start\": self.watch_date.isoformat()}},\n",
        "          '上映年': {'number': self.release_year},\n",
        "          '制作国': {'multi_select': _multi_select_items(self.countries)},\n",
        "          'ジャンル': {'multi_select': _multi_select_items(self.genres)},\n",
        "          '監督': {'multi_select': _multi_select_items(self.directors)},\n",
        "          '脚本': {'multi_select': _multi_select_items(self.writers)},\n",
        "          '出演者': {'multi_select': _multi_select_items(self.casts)},\n",
        "          'filmarks': {'url': self.movie_url},\n",
        "          '画像': {'url': self.img_url},\n",
        "          '集計': {\n",
        "            'relation': [{\"id\": get_pbar_page_id(self.watch_date.year)}],\n",
        "            'has_more': False,\n",
        "            }\n",
        "          }\n",
        "        }\n",
        "    \n",
        "\n",
        "  def parse(self, movie_url: str) -> None:\n",
        "    self.movie_url = movie_url\n",
        "    res = requests.get(movie_url)\n",
        "    if res.status_code != 200:\n",
        "      return\n",
        "    \n",
        "    soup = BeautifulSoup(res.text, parser)\n",
        "\n",
        "    # 映画のデータ\n",
        "    detail = soup.find(\"div\", class_=\"p-content-detail__body\")\n",
        "    other_info = list(detail.find(\"div\", class_=\"p-content-detail__other-info\").children)\n",
        "    people_list_others = list(detail.find(\"div\", class_=\"p-content-detail__people-list-others__wrapper\").children)\n",
        "\n",
        "    self.title = detail.find(\"h2\", class_=\"p-content-detail__title\").find(\"span\").text\n",
        "    self.img_url = detail.find(\"img\")[\"src\"]\n",
        "    try:\n",
        "      self.release_year = datetime.strptime(other_info[0].text, \"上映日：%Y年%m月%d日\").year\n",
        "      self.countries = [country.text for country in other_info[2].find_all(\"a\")]\n",
        "    except ValueError as e:\n",
        "      # https://filmarks.com/movies/55537 のように上映日情報がない映画もある\n",
        "      self.release_year = int(detail.find(\"h2\", class_=\"p-content-detail__title\").find(\"a\").text[:-1])\n",
        "      self.countries = [country.text for country in other_info[1].find_all(\"a\")]\n",
        "    self.genres = [genre.text for genre in detail.find(\"div\", class_=\"p-content-detail__genre\").find_all(\"a\")]\n",
        "    self.directors = [person.text for person in people_list_others[0].find_all(\"a\")]\n",
        "    try:\n",
        "      self.writers = [person.text for person in people_list_others[1].find_all(\"a\")]\n",
        "    except IndexError as e:\n",
        "      # https://filmarks.com/movies/80435 のように脚本情報がない映画もある\n",
        "      pass\n",
        "    try:\n",
        "      self.casts = [cast.text for cast in detail.find(\"div\", id=\"js-content-detail-people-cast\").find_all(\"a\")]\n",
        "    except AttributeError as e:\n",
        "      # https://filmarks.com/movies/86613 のように出演者情報がない映画もある\n",
        "      pass\n",
        "\n",
        "    # レビューのデータ\n",
        "    card_review = soup.find(\"div\", class_=\"p-mark\")\n",
        "    \n",
        "    ## 鑑賞日\n",
        "    self.watch_date = datetime.strptime(card_review.find(\"time\")[\"datetime\"], \"%Y-%m-%d %H:%M\").date()\n",
        "    ## スコア\n",
        "    self.score = float(card_review.find(\"div\", class_=\"c-rating__score\").text)\n",
        "    ## 感想\n",
        "    self.review = card_review.find(\"div\", class_=\"p-mark__review\").text"
      ]
    },
    {
      "cell_type": "code",
      "execution_count": 46,
      "metadata": {
        "id": "SqoqJ7udbK85"
      },
      "outputs": [],
      "source": [
        "def _color_of(score):\n",
        "  if not isinstance(score, float):\n",
        "    return \"gray\"\n",
        "  \n",
        "  star = round(score)\n",
        "  if star <= 1: # 0.0 <= score < 1.5\n",
        "    return \"lightgray\"\n",
        "  if star == 2: # 1.5 <= score < 2.5\n",
        "    return \"brown\"\n",
        "  if star == 3: # 2.5 <= score < 3.5\n",
        "    return \"yellow\"\n",
        "  if star == 4: # 3.5 <= score < 4.5\n",
        "    return \"orange\"\n",
        "  if star == 5: # 4.5 <= score < 5.0\n",
        "    return \"red\""
      ]
    },
    {
      "cell_type": "code",
      "execution_count": 36,
      "metadata": {
        "id": "8vtFY0ekw7-i"
      },
      "outputs": [],
      "source": [
        "from IPython.core import payload\n",
        "# ------------------------------------------------------------------------------------------------------------\n",
        "# すでに記録してあるページをキャッシュする\n",
        "# ------------------------------------------------------------------------------------------------------------\n",
        "existing_page = {} # dict[str, date] \n",
        "# 存在確認用\n",
        "# 同じタイトルもあると思われるため、タイトルと鑑賞日で判定する\n",
        "\n",
        "pages = []\n",
        "payload = {\"page_size\": 100} # Max: 100\n",
        "while True:\n",
        "  r = requests.post(urljoin(API_URL, f\"databases/{DB_MOVIE_ID}/query\"), headers=HEADERS, data=json.dumps(payload))\n",
        "  pages += r.json()['results']\n",
        "\n",
        "  if r.status_code != 200:\n",
        "    break\n",
        "\n",
        "  if r.json()['has_more']:\n",
        "    payload['start_cursor'] = r.json()['next_cursor']\n",
        "    continue\n",
        "\n",
        "  break\n",
        "\n",
        "for page in pages:\n",
        "  title = page['properties']['タイトル']['title'][0]['plain_text']\n",
        "  watch_date = page['properties']['鑑賞日']['date']\n",
        "  if watch_date:\n",
        "    watch_date = datetime.fromisoformat(watch_date['start']).date()\n",
        "  existing_page[title] = watch_date\n",
        "\n",
        "\n",
        "def exists(title, watch_date) -> bool:\n",
        "  return title in existing_page and watch_date == existing_page[title]"
      ]
    },
    {
      "cell_type": "code",
      "execution_count": 6,
      "metadata": {
        "id": "M04CaC6HfQTG"
      },
      "outputs": [],
      "source": [
        "# ------------------------------------------------------------------------------------------------------------\n",
        "# ページ数\n",
        "# ------------------------------------------------------------------------------------------------------------\n",
        "num_pages = 1\n",
        "res = requests.get(urljoin(filmarks_url, f\"/users/{filmarks_id}\"))\n",
        "soup = BeautifulSoup(res.text, \"html.parser\")\n",
        "pagination_last = soup.find(\"a\", class_=\"c-pagination__last\")[\"href\"]\n",
        "result = re.match(f\"/users/{filmarks_id}\\?page=(\\d+)\", pagination_last)\n",
        "if result:\n",
        "  num_pages = int(result.group(1))"
      ]
    },
    {
      "cell_type": "code",
      "execution_count": 52,
      "metadata": {
        "colab": {
          "base_uri": "https://localhost:8080/"
        },
        "id": "Pod4P9AqRwSE",
        "outputId": "68920c93-0548-403c-bb3b-d58568a59562"
      },
      "outputs": [
        {
          "name": "stdout",
          "output_type": "stream",
          "text": [
            "■ https://filmarks.com/movies/100914?mark_id=147373499\n",
            "フォトコピー\n",
            "\n",
            "■ https://filmarks.com/movies/20037?mark_id=147350626\n",
            "ラスベガスをぶっつぶせ\n",
            "\n",
            "■ https://filmarks.com/movies/69390?mark_id=147348059\n",
            "新感染 ファイナル・エクスプレス\n",
            "\n",
            "■ https://filmarks.com/movies/24065?mark_id=147330793\n",
            "ステイ・フレンズ\n",
            "\n",
            "■ https://filmarks.com/movies/33172?mark_id=147182566\n",
            "タクシードライバー\n",
            "登録されています\n"
          ]
        }
      ],
      "source": [
        "\n",
        "# ------------------------------------------------------------------------------------------------------------\n",
        "# 全レビューを読み取る\n",
        "# ------------------------------------------------------------------------------------------------------------\n",
        "parser = \"html.parser\"\n",
        "reviews = []\n",
        "for num in range(1, num_pages+1):\n",
        "  # ユーザーページnum番目\n",
        "  res = requests.get(urljoin(filmarks_url, f\"/users/{filmarks_id}?page={num}\"))\n",
        "  if res.status_code != 200:\n",
        "    continue\n",
        "  \n",
        "  soup = BeautifulSoup(res.text, parser)\n",
        "\n",
        "  for card_title in soup.find_all(\"h3\", class_=\"c-content-card__title\"):\n",
        "    movie_path_query = card_title.find(\"a\")[\"href\"]\n",
        "    movie_url = urljoin(filmarks_url, movie_path_query)\n",
        "\n",
        "    print(f\"■ {movie_url}\") # debug\n",
        "\n",
        "    prop = Properties(DB_MOVIE_ID)\n",
        "    prop.parse(movie_url)\n",
        "    \n",
        "    print(prop.title) # debug\n",
        "    if exists(prop.title, prop.watch_date):\n",
        "      print('登録されています')\n",
        "      break\n",
        "    \n",
        "    reviews.append(prop.export())\n",
        "    print()\n",
        "  else:\n",
        "    continue\n",
        "  break"
      ]
    },
    {
      "cell_type": "code",
      "execution_count": 53,
      "metadata": {
        "colab": {
          "base_uri": "https://localhost:8080/"
        },
        "id": "tVgctyEaRx2o",
        "outputId": "55ac3d11-4ef3-46b2-c2d6-5a15ce5e159b"
      },
      "outputs": [
        {
          "name": "stdout",
          "output_type": "stream",
          "text": [
            "[INFO] 「フォトコピー」のページを作成しました (id: dc37ddab-2acc-4b75-842b-7869924f89bc)\n",
            "[INFO] 「ラスベガスをぶっつぶせ」のページを作成しました (id: 452041ef-3f99-4a0d-a16c-14d47d5068e2)\n",
            "[INFO] 「新感染 ファイナル・エクスプレス」のページを作成しました (id: 63945d8b-d32b-400e-800e-55abdd9ccc9d)\n",
            "[INFO] 「ステイ・フレンズ」のページを作成しました (id: 60b346e0-c96d-464d-86eb-aa58d7702ee1)\n"
          ]
        }
      ],
      "source": [
        "# ------------------------------------------------------------------------------------------------------------\n",
        "# Notionのページ作成\n",
        "# ------------------------------------------------------------------------------------------------------------\n",
        "ng_data = []\n",
        "for pyload in reviews:\n",
        "  title = pyload[\"properties\"]['タイトル']['title'][0]['text']['content']\n",
        "  watch_date = pyload['properties']['鑑賞日']['date']['start']\n",
        "\n",
        "  if exists(title, watch_date):\n",
        "    # TODO: 存在すれば更新処理に変更\n",
        "    print(f\"[WARN] 「{title}」のページは存在します\")\n",
        "    break # 以降は記録済みなのでここで終了\n",
        "\n",
        "  r = requests.post(urljoin(API_URL, \"pages\"), headers=HEADERS, data=json.dumps(pyload))\n",
        "\n",
        "  if r.status_code != 200:\n",
        "    ng_data.append(data)\n",
        "    print(f\"[ERROR] 「{title}」のレビューを作成できませんでした\")\n",
        "    continue\n",
        "  \n",
        "  print(f\"[INFO] 「{title}」のページを作成しました (id: {r.json()['id']})\")"
      ]
    },
    {
      "cell_type": "code",
      "execution_count": null,
      "metadata": {
        "id": "1856gFFPXsBe"
      },
      "outputs": [],
      "source": []
    }
  ],
  "metadata": {
    "colab": {
      "provenance": []
    },
    "kernelspec": {
      "display_name": "Python 3",
      "language": "python",
      "name": "python3"
    },
    "language_info": {
      "name": "python",
      "version": "3.10.6 (main, Aug  6 2022, 21:42:16) [Clang 13.1.6 (clang-1316.0.21.2.5)]"
    },
    "vscode": {
      "interpreter": {
        "hash": "9a56834fee5ec98b52c8eeec4e00473e8841e842a36a94879c3e91dd1548f6a3"
      }
    }
  },
  "nbformat": 4,
  "nbformat_minor": 0
}
